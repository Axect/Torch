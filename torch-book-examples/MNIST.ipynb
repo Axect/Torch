{
 "cells": [
  {
   "cell_type": "code",
   "execution_count": 1,
   "metadata": {},
   "outputs": [],
   "source": [
    "require 'paths'\n",
    "\n",
    "function loadDataSet(trainSize, testSize)\n",
    "    local trainSetSize = trainSize\n",
    "    local testSetSize = testSize\n",
    "\n",
    "    local trainFile = paths.concat('data/mnist.t7/', 'train_32x32.t7')\n",
    "    local trainSet = torch.load(trainFile, 'ascii')\n",
    "    trainSet.data = trainSet.data:double()\n",
    "    trainSet.data = trainSet.data[{{1, trainSetSize}, {}, {}, {}}]\n",
    "    trainSet.labels = trainSet.labels:double()\n",
    "    trainSet.labels = trainSet.labels[{{1, trainSetSize}}]\n",
    "\n",
    "\n",
    "    local testFile = paths.concat('data/mnist.t7/', 'test_32x32.t7')\n",
    "    local testSet = torch.load(testFile, 'ascii')\n",
    "    testSet.data = testSet.data:double()\n",
    "    testSet.data = testSet.data[{{1, testSetSize},{},{},{}}]\n",
    "    testSet.labels = testSet.labels:double()\n",
    "    testSet.labels = testSet.labels[{{1, testSetSize}}]\n",
    "\n",
    "    ---- normalize training data\n",
    "    local mean = trainSet.data[{ {}, {1}, {}, {}  }]:mean()\n",
    "    trainSet.data[{ {}, {1}, {}, {}  }]:add(-mean)\n",
    "    local stdv = trainSet.data[{ {}, {1}, {}, {}  }]:std() -- std estimation\n",
    "    trainSet.data[{ {}, {1}, {}, {}  }]:div(stdv)\n",
    "\n",
    "    ---- normalize test data\n",
    "    mean = testSet.data[{ {}, {1}, {}, {}  }]:mean()\n",
    "    testSet.data[{ {}, {1}, {}, {}  }]:add(-mean)\n",
    "    stdv = testSet.data[{ {}, {1}, {}, {}  }]:std()\n",
    "    testSet.data[{ {}, {1}, {}, {}  }]:div(stdv)\n",
    "\n",
    "    return {trainSet, testSet}\n",
    "end"
   ]
  },
  {
   "cell_type": "code",
   "execution_count": 2,
   "metadata": {},
   "outputs": [],
   "source": [
    "require 'nn';"
   ]
  },
  {
   "cell_type": "code",
   "execution_count": 3,
   "metadata": {},
   "outputs": [],
   "source": [
    "local trainSize = 600\n",
    "local testSize = 100\n",
    "local datasets = loadDataSet(trainSize, testSize)\n",
    "trainSet = datasets[1]\n",
    "testSet = datasets[2]"
   ]
  },
  {
   "cell_type": "code",
   "execution_count": 4,
   "metadata": {},
   "outputs": [
    {
     "data": {
      "text/plain": [
       "{\n",
       "  data : DoubleTensor - size: 600x1x32x32\n",
       "  labels : DoubleTensor - size: 600\n",
       "}\n"
      ]
     },
     "execution_count": 4,
     "metadata": {},
     "output_type": "execute_result"
    }
   ],
   "source": [
    "trainSet"
   ]
  },
  {
   "cell_type": "code",
   "execution_count": 5,
   "metadata": {},
   "outputs": [
    {
     "data": {
      "text/plain": [
       "{\n",
       "  data : DoubleTensor - size: 100x1x32x32\n",
       "  labels : DoubleTensor - size: 100\n",
       "}\n"
      ]
     },
     "execution_count": 5,
     "metadata": {},
     "output_type": "execute_result"
    }
   ],
   "source": [
    "testSet"
   ]
  },
  {
   "cell_type": "code",
   "execution_count": 6,
   "metadata": {},
   "outputs": [],
   "source": [
    "trainSet.labels = trainSet.labels - 1\n",
    "testSet.labels = testSet.labels - 1"
   ]
  },
  {
   "cell_type": "code",
   "execution_count": 7,
   "metadata": {},
   "outputs": [
    {
     "data": {
      "image/png": "[encoded data removed]",
      "text/plain": [
       "Console does not support images"
      ]
     },
     "metadata": {
      "image/png": {
       "height": 578,
       "width": 204
      }
     },
     "output_type": "display_data"
    },
    {
     "data": {
      "text/plain": [
       "\n"
      ]
     },
     "execution_count": 7,
     "metadata": {},
     "output_type": "execute_result"
    }
   ],
   "source": [
    "itorch.image(testSet.data)"
   ]
  },
  {
   "cell_type": "code",
   "execution_count": 8,
   "metadata": {},
   "outputs": [
    {
     "data": {
      "text/plain": [
       "\n"
      ]
     },
     "execution_count": 8,
     "metadata": {},
     "output_type": "execute_result"
    },
    {
     "data": {
      "image/png": "[encoded data removed]",
      "text/plain": [
       "Console does not support images"
      ]
     },
     "metadata": {
      "image/png": {
       "height": 32,
       "width": 32
      }
     },
     "output_type": "display_data"
    }
   ],
   "source": [
    "itorch.image(trainSet.data[1])"
   ]
  },
  {
   "cell_type": "code",
   "execution_count": 9,
   "metadata": {},
   "outputs": [
    {
     "data": {
      "text/plain": [
       "5\t\n"
      ]
     },
     "execution_count": 9,
     "metadata": {},
     "output_type": "execute_result"
    }
   ],
   "source": [
    "trainSet.labels[1]"
   ]
  },
  {
   "cell_type": "code",
   "execution_count": 10,
   "metadata": {},
   "outputs": [],
   "source": [
    "---- # of input channels of image\n",
    "local input_channel = 1\n",
    "---- # of output classes\n",
    "local outputs = 10\n",
    "\n",
    "-- Configure model network\n",
    "model = nn.Sequential()\n",
    "---- First convloution layer\n",
    "------ 1 channel, 6 output channels, 5x5 convolution kernel\n",
    "model:add(nn.SpatialConvolution(input_channel, 6, 5, 5))\n",
    "model:add(nn.ReLU())\n",
    "------ A max-pooling operation that looks at 2x2 windows and finds the max.\n",
    "model:add(nn.SpatialMaxPooling(2,2,2,2))\n",
    "---- Second convloution layer\n",
    "------ 6 channels, 16 output channels, 5x5 convolution kernel\n",
    "model:add(nn.SpatialConvolution(6, 16, 5, 5))\n",
    "model:add(nn.ReLU())\n",
    "model:add(nn.SpatialMaxPooling(2,2,2,2))\n",
    "---- First fully connected layer\n",
    "------ reshapes from a 3D tensor of 16x5x5 into 1D tensor of 16*5*5\n",
    "model:add(nn.View(16*5*5))\n",
    "model:add(nn.Linear(16*5*5, 120))\n",
    "model:add(nn.ReLU())\n",
    "---- Second fully connected layer\n",
    "model:add(nn.Linear(120, 84))\n",
    "model:add(nn.ReLU())\n",
    "---- Gaussian layer \n",
    "model:add(nn.Linear(84, outputs))\n",
    "model:add(nn.LogSoftMax())"
   ]
  },
  {
   "cell_type": "code",
   "execution_count": 13,
   "metadata": {},
   "outputs": [],
   "source": [
    "-- Define loss function\n",
    "loss = nn.ClassNLLCriterion()"
   ]
  },
  {
   "cell_type": "code",
   "execution_count": 14,
   "metadata": {},
   "outputs": [
    {
     "data": {
      "text/plain": [
       "== start training\t\n"
      ]
     },
     "execution_count": 14,
     "metadata": {},
     "output_type": "execute_result"
    },
    {
     "ename": "/root/torch/install/share/lua/5.1/nn/THNN.lua:110: Assertion `cur_target >= 0 && cur_target < n_classes' failed.  at /root/torch/extra/nn/lib/THNN/generic/ClassNLLCriterion.c:48\nstack traceback:\n\t[C]: in function 'v'\n\t/root/torch/install/share/lua/5.1/nn/THNN.lua:110: in function 'ClassNLLCriterion_updateOutput'\n\t/root/torch/install/share/lua/5.1/nn/ClassNLLCriterion.lua:41: in function 'forward'\n\t[string \"-- Train the network...\"]:13: in main chunk\n\t[C]: in function 'xpcall'\n\t/root/torch/install/share/lua/5.1/itorch/main.lua:210: in function </root/torch/install/share/lua/5.1/itorch/main.lua:174>\n\t/root/torch/install/share/lua/5.1/lzmq/poller.lua:80: in function 'poll'\n\t/root/torch/install/share/lua/5.1/lzmq/impl/loop.lua:307: in function 'poll'\n\t/root/torch/install/share/lua/5.1/lzmq/impl/loop.lua:325: in function 'sleep_ex'\n\t/root/torch/install/share/lua/5.1/lzmq/impl/loop.lua:370: in function 'start'\n\t/root/torch/install/share/lua/5.1/itorch/main.lua:389: in main chunk\n\t[C]: in function 'require'\n\t(command line):1: in main chunk\n\t[C]: at 0x00405d50",
     "evalue": "",
     "output_type": "error",
     "traceback": [
      "/root/torch/install/share/lua/5.1/nn/THNN.lua:110: Assertion `cur_target >= 0 && cur_target < n_classes' failed.  at /root/torch/extra/nn/lib/THNN/generic/ClassNLLCriterion.c:48\nstack traceback:\n\t[C]: in function 'v'\n\t/root/torch/install/share/lua/5.1/nn/THNN.lua:110: in function 'ClassNLLCriterion_updateOutput'\n\t/root/torch/install/share/lua/5.1/nn/ClassNLLCriterion.lua:41: in function 'forward'\n\t[string \"-- Train the network...\"]:13: in main chunk\n\t[C]: in function 'xpcall'\n\t/root/torch/install/share/lua/5.1/itorch/main.lua:210: in function </root/torch/install/share/lua/5.1/itorch/main.lua:174>\n\t/root/torch/install/share/lua/5.1/lzmq/poller.lua:80: in function 'poll'\n\t/root/torch/install/share/lua/5.1/lzmq/impl/loop.lua:307: in function 'poll'\n\t/root/torch/install/share/lua/5.1/lzmq/impl/loop.lua:325: in function 'sleep_ex'\n\t/root/torch/install/share/lua/5.1/lzmq/impl/loop.lua:370: in function 'start'\n\t/root/torch/install/share/lua/5.1/itorch/main.lua:389: in main chunk\n\t[C]: in function 'require'\n\t(command line):1: in main chunk\n\t[C]: at 0x00405d50"
     ]
    }
   ],
   "source": [
    "-- Train the network\n",
    "print(\"== start training\")\n",
    "local theta, gradTheta = model:getParameters()\n",
    "local optimState = {learningRate = 0.01}\n",
    "\n",
    "-- local maxIteration = 5\n",
    "local maxIteration = 10\n",
    "for epoch = 1, maxIteration do\n",
    "    for i = 1, trainSet.data:size(1) do\n",
    "        if (i % 100) == 0 then print(i) end\n",
    "        gradTheta:zero()\n",
    "        h_x = model:forward(trainSet.data[i])\n",
    "        J = loss:forward(h_x, trainSet.labels[i])\n",
    "        dJ_dh_x = loss:backward(h_x, trainSet.labels[i])\n",
    "        -- Computes and updates gradTheta\n",
    "        model:backward(trainSet.data[i], dJ_dh_x)\n",
    "        model:updateParameters(optimState.learningRate)\n",
    "    end\n",
    "    -- For debugging only\n",
    "    h_x = model:forward(trainSet.data)\n",
    "    totalJ = loss:forward(h_x, trainSet.labels)\n",
    "    print(string.format(\"current loss: %.5f\", totalJ))\n",
    "end\n",
    "print(\"== end training\")"
   ]
  },
  {
   "cell_type": "code",
   "execution_count": null,
   "metadata": {},
   "outputs": [],
   "source": []
  }
 ],
 "metadata": {
  "kernelspec": {
   "display_name": "iTorch",
   "language": "lua",
   "name": "itorch"
  },
  "language_info": {
   "name": "lua",
   "version": "5.1"
  }
 },
 "nbformat": 4,
 "nbformat_minor": 2
}
