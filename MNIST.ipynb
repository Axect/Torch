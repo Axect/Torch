{
 "cells": [
  {
   "cell_type": "code",
   "execution_count": 1,
   "metadata": {},
   "outputs": [],
   "source": [
    "require 'nn'\n",
    "require 'cunn'\n",
    "mnist = require 'mnist'"
   ]
  },
  {
   "cell_type": "code",
   "execution_count": 2,
   "metadata": {},
   "outputs": [],
   "source": [
    "fullset = mnist.traindataset()\n",
    "testset = mnist.testdataset()"
   ]
  },
  {
   "cell_type": "code",
   "execution_count": 3,
   "metadata": {},
   "outputs": [],
   "source": [
    "fullset"
   ]
  },
  {
   "cell_type": "code",
   "execution_count": 4,
   "metadata": {},
   "outputs": [
    {
     "data": {
      "text/plain": [
       "{\n",
       "  data : ByteTensor - size: 60000x28x28\n",
       "  size : 60000\n",
       "  label : ByteTensor - size: 60000\n",
       "}\n",
       "{\n",
       "  data : ByteTensor - size: 10000x28x28\n",
       "  size : 10000\n",
       "  label : ByteTensor - size: 10000\n",
       "}\n"
      ]
     },
     "execution_count": 4,
     "metadata": {},
     "output_type": "execute_result"
    }
   ],
   "source": [
    "testset"
   ]
  },
  {
   "cell_type": "code",
   "execution_count": 5,
   "metadata": {},
   "outputs": [
    {
     "data": {
      "text/plain": [
       "\n"
      ]
     },
     "execution_count": 5,
     "metadata": {},
     "output_type": "execute_result"
    },
    {
     "data": {
      "image/png": "[encoded data removed]",
      "text/plain": [
       "Console does not support images"
      ]
     },
     "metadata": {
      "image/png": {
       "height": 28,
       "width": 28
      }
     },
     "output_type": "display_data"
    }
   ],
   "source": [
    "itorch.image(fullset.data[1])"
   ]
  },
  {
   "cell_type": "code",
   "execution_count": 6,
   "metadata": {},
   "outputs": [],
   "source": [
    "fullset.label[1]"
   ]
  },
  {
   "cell_type": "code",
   "execution_count": 7,
   "metadata": {},
   "outputs": [
    {
     "data": {
      "text/plain": [
       "5\t\n"
      ]
     },
     "execution_count": 7,
     "metadata": {},
     "output_type": "execute_result"
    }
   ],
   "source": [
    "trainSet = {\n",
    "    size = 50000,\n",
    "    data = fullset.data[{{1,50000}}]:double(),\n",
    "    labels = fullset.label[{{1,50000}}]\n",
    "}\n",
    "\n",
    "validationset = {\n",
    "    size = 10000,\n",
    "    data = fullset.data[{{50001,60000}}]:double(),\n",
    "    labels = fullset.label[{{50001,60000}}]\n",
    "}"
   ]
  },
  {
   "cell_type": "code",
   "execution_count": 8,
   "metadata": {},
   "outputs": [],
   "source": [
    "model = nn.Sequential()"
   ]
  },
  {
   "cell_type": "code",
   "execution_count": 15,
   "metadata": {},
   "outputs": [],
   "source": [
    "local input_channel = 1\n",
    "local outputs = 10\n",
    "\n",
    "model:add(nn.Reshape(28*28))\n",
    "model:add(nn.Linear(28*28, 30))\n",
    "model:add(nn.Tanh())\n",
    "model:add(nn.Linear(30, 10))\n",
    "model:add(nn.LogSoftMax())"
   ]
  },
  {
   "cell_type": "code",
   "execution_count": 16,
   "metadata": {},
   "outputs": [],
   "source": [
    "loss = nn.ClassNLLCriterion()"
   ]
  },
  {
   "cell_type": "code",
   "execution_count": 17,
   "metadata": {},
   "outputs": [
    {
     "data": {
      "text/plain": [
       "== start training\t\n"
      ]
     },
     "execution_count": 17,
     "metadata": {},
     "output_type": "execute_result"
    },
    {
     "ename": "/root/torch/install/share/lua/5.1/nn/Container.lua:67: \nIn 1 module of nn.Sequential:\n/root/torch/install/share/lua/5.1/nn/THNN.lua:110: bad argument #2 to 'v' (3D or 4D input tensor expected but got: [28 x 28] at /root/torch/extra/nn/lib/THNN/generic/SpatialConvolutionMM.c:33)\nstack traceback:\n\t[C]: in function 'v'\n\t/root/torch/install/share/lua/5.1/nn/THNN.lua:110: in function 'SpatialConvolutionMM_updateOutput'\n\t/root/torch/install/share/lua/5.1/nn/SpatialConvolution.lua:79: in function </root/torch/install/share/lua/5.1/nn/SpatialConvolution.lua:76>\n\t[C]: in function 'xpcall'\n\t/root/torch/install/share/lua/5.1/nn/Container.lua:63: in function 'rethrowErrors'\n\t/root/torch/install/share/lua/5.1/nn/Sequential.lua:44: in function 'forward'\n\t[string \"-- Train the network...\"]:12: in main chunk\n\t[C]: in function 'xpcall'\n\t/root/torch/install/share/lua/5.1/itorch/main.lua:210: in function </root/torch/install/share/lua/5.1/itorch/main.lua:174>\n\t/root/torch/install/share/lua/5.1/lzmq/poller.lua:80: in function 'poll'\n\t/root/torch/install/share/lua/5.1/lzmq/impl/loop.lua:307: in function 'poll'\n\t/root/torch/install/share/lua/5.1/lzmq/impl/loop.lua:325: in function 'sleep_ex'\n\t/root/torch/install/share/lua/5.1/lzmq/impl/loop.lua:370: in function 'start'\n\t/root/torch/install/share/lua/5.1/itorch/main.lua:389: in main chunk\n\t[C]: in function 'require'\n\t(command line):1: in main chunk\n\t[C]: at 0x00405d50\n\nWARNING: If you see a stack trace below, it doesn't point to the place where this error occurred. Please use only the one above.\nstack traceback:\n\t[C]: in function 'error'\n\t/root/torch/install/share/lua/5.1/nn/Container.lua:67: in function 'rethrowErrors'\n\t/root/torch/install/share/lua/5.1/nn/Sequential.lua:44: in function 'forward'\n\t[string \"-- Train the network...\"]:12: in main chunk\n\t[C]: in function 'xpcall'\n\t/root/torch/install/share/lua/5.1/itorch/main.lua:210: in function </root/torch/install/share/lua/5.1/itorch/main.lua:174>\n\t/root/torch/install/share/lua/5.1/lzmq/poller.lua:80: in function 'poll'\n\t/root/torch/install/share/lua/5.1/lzmq/impl/loop.lua:307: in function 'poll'\n\t/root/torch/install/share/lua/5.1/lzmq/impl/loop.lua:325: in function 'sleep_ex'\n\t/root/torch/install/share/lua/5.1/lzmq/impl/loop.lua:370: in function 'start'\n\t/root/torch/install/share/lua/5.1/itorch/main.lua:389: in main chunk\n\t[C]: in function 'require'\n\t(command line):1: in main chunk\n\t[C]: at 0x00405d50",
     "evalue": "",
     "output_type": "error",
     "traceback": [
      "/root/torch/install/share/lua/5.1/nn/Container.lua:67: \nIn 1 module of nn.Sequential:\n/root/torch/install/share/lua/5.1/nn/THNN.lua:110: bad argument #2 to 'v' (3D or 4D input tensor expected but got: [28 x 28] at /root/torch/extra/nn/lib/THNN/generic/SpatialConvolutionMM.c:33)\nstack traceback:\n\t[C]: in function 'v'\n\t/root/torch/install/share/lua/5.1/nn/THNN.lua:110: in function 'SpatialConvolutionMM_updateOutput'\n\t/root/torch/install/share/lua/5.1/nn/SpatialConvolution.lua:79: in function </root/torch/install/share/lua/5.1/nn/SpatialConvolution.lua:76>\n\t[C]: in function 'xpcall'\n\t/root/torch/install/share/lua/5.1/nn/Container.lua:63: in function 'rethrowErrors'\n\t/root/torch/install/share/lua/5.1/nn/Sequential.lua:44: in function 'forward'\n\t[string \"-- Train the network...\"]:12: in main chunk\n\t[C]: in function 'xpcall'\n\t/root/torch/install/share/lua/5.1/itorch/main.lua:210: in function </root/torch/install/share/lua/5.1/itorch/main.lua:174>\n\t/root/torch/install/share/lua/5.1/lzmq/poller.lua:80: in function 'poll'\n\t/root/torch/install/share/lua/5.1/lzmq/impl/loop.lua:307: in function 'poll'\n\t/root/torch/install/share/lua/5.1/lzmq/impl/loop.lua:325: in function 'sleep_ex'\n\t/root/torch/install/share/lua/5.1/lzmq/impl/loop.lua:370: in function 'start'\n\t/root/torch/install/share/lua/5.1/itorch/main.lua:389: in main chunk\n\t[C]: in function 'require'\n\t(command line):1: in main chunk\n\t[C]: at 0x00405d50\n\nWARNING: If you see a stack trace below, it doesn't point to the place where this error occurred. Please use only the one above.\nstack traceback:\n\t[C]: in function 'error'\n\t/root/torch/install/share/lua/5.1/nn/Container.lua:67: in function 'rethrowErrors'\n\t/root/torch/install/share/lua/5.1/nn/Sequential.lua:44: in function 'forward'\n\t[string \"-- Train the network...\"]:12: in main chunk\n\t[C]: in function 'xpcall'\n\t/root/torch/install/share/lua/5.1/itorch/main.lua:210: in function </root/torch/install/share/lua/5.1/itorch/main.lua:174>\n\t/root/torch/install/share/lua/5.1/lzmq/poller.lua:80: in function 'poll'\n\t/root/torch/install/share/lua/5.1/lzmq/impl/loop.lua:307: in function 'poll'\n\t/root/torch/install/share/lua/5.1/lzmq/impl/loop.lua:325: in function 'sleep_ex'\n\t/root/torch/install/share/lua/5.1/lzmq/impl/loop.lua:370: in function 'start'\n\t/root/torch/install/share/lua/5.1/itorch/main.lua:389: in main chunk\n\t[C]: in function 'require'\n\t(command line):1: in main chunk\n\t[C]: at 0x00405d50"
     ]
    }
   ],
   "source": [
    "-- Train the network\n",
    "print(\"== start training\")\n",
    "local theta, gradTheta = model:getParameters()\n",
    "local optimState = {learningRate = 0.01}\n",
    "\n",
    "-- local maxIteration = 5\n",
    "local maxIteration = 10\n",
    "for epoch = 1, maxIteration do\n",
    "    for i = 1, trainSet.data:size(1) do\n",
    "        if (i % 100) == 0 then print(i) end\n",
    "        gradTheta:zero()\n",
    "        h_x = model:forward(trainSet.data[i])\n",
    "        J = loss:forward(h_x, trainSet.labels[i])\n",
    "        dJ_dh_x = loss:backward(h_x, trainSet.labels[i])\n",
    "        -- Computes and updates gradTheta\n",
    "        model:backward(trainSet.data[i], dJ_dh_x)\n",
    "        model:updateParameters(optimState.learningRate)\n",
    "    end\n",
    "    -- For debugging only\n",
    "    h_x = model:forward(trainSet.data)\n",
    "    totalJ = loss:forward(h_x, trainSet.labels)\n",
    "    print(string.format(\"current loss: %.5f\", totalJ))\n",
    "end\n",
    "print(\"== end training\")"
   ]
  },
  {
   "cell_type": "code",
   "execution_count": null,
   "metadata": {},
   "outputs": [],
   "source": []
  }
 ],
 "metadata": {
  "kernelspec": {
   "display_name": "iTorch",
   "language": "lua",
   "name": "itorch"
  },
  "language_info": {
   "name": "lua",
   "version": "5.1"
  }
 },
 "nbformat": 4,
 "nbformat_minor": 2
}
